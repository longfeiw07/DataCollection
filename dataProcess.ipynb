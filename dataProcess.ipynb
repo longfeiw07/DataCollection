{
 "cells": [
  {
   "cell_type": "code",
   "execution_count": 4,
   "metadata": {
    "collapsed": true
   },
   "outputs": [
    {
     "name": "stdout",
     "output_type": "stream",
     "text": [
      "60\n"
     ]
    },
    {
     "name": "stdout",
     "output_type": "stream",
     "text": [
      "300\n"
     ]
    },
    {
     "name": "stdout",
     "output_type": "stream",
     "text": [
      "600\n"
     ]
    },
    {
     "name": "stdout",
     "output_type": "stream",
     "text": [
      "900\n"
     ]
    },
    {
     "name": "stdout",
     "output_type": "stream",
     "text": [
      "3600\n"
     ]
    }
   ],
   "source": [
    "# -*- coding: utf-8 -*-\n",
    "'''\n",
    "长数据接接：16年5月之前的数据采用ricequant,16年5月之后采用myquant\n",
    "'''\n",
    "import DATA_CONSTANTS as DC\n",
    "import pandas as pd\n",
    "import time\n",
    "import numpy as np\n",
    "K_MIN_Set=[60,300,600,900,3600]\n",
    "symbol = \"DCE.I\"\n",
    "datapath=\"D:\\\\002 MakeLive\\DataCollection\\\\raw data\\\\\"\n",
    "targetpath=\"D:\\\\002 MakeLive\\DataCollection\\\\bar data\\\\\"+symbol+\"\\\\\"\n",
    "myquantdatapath=datapath+symbol+\"\\\\\"\n",
    "ricequantdatapath=myquantdatapath+\"ricequant\\\\\"\n",
    "\n",
    "jointtime = '2016-05-01 00:00:00'\n",
    "jointutc = float(time.mktime(time.strptime(jointtime, \"%Y-%m-%d %H:%M:%S\")))\n",
    "\n",
    "for K_MIN in K_MIN_Set:\n",
    "    print K_MIN\n",
    "    filename=symbol+\" \"+str(K_MIN)+\".csv\"\n",
    "    ricedata=pd.read_csv(ricequantdatapath+filename)\n",
    "    myquantdata=pd.read_csv(myquantdatapath+filename)\n",
    "    df1=ricedata.loc[ricedata['utc_time']<jointutc]\n",
    "    df2=myquantdata.loc[myquantdata['utc_time']>jointutc]\n",
    "    df=pd.concat([df1,df2])\n",
    "    df.reset_index(drop=True,inplace=True)\n",
    "    rownum=df.shape[0]\n",
    "    df['Unnamed: 0']=np.arange(0,rownum)\n",
    "    df.to_csv(targetpath+symbol+' '+str(K_MIN)+'.csv')\n",
    "    del df"
   ]
  },
  {
   "cell_type": "code",
   "execution_count": null,
   "metadata": {},
   "outputs": [],
   "source": []
  }
 ],
 "metadata": {
  "kernelspec": {
   "display_name": "Python 2",
   "language": "python",
   "name": "python2"
  },
  "language_info": {
   "codemirror_mode": {
    "name": "ipython",
    "version": 2
   },
   "file_extension": ".py",
   "mimetype": "text/x-python",
   "name": "python",
   "nbconvert_exporter": "python",
   "pygments_lexer": "ipython2",
   "version": "2.7.6"
  }
 },
 "nbformat": 4,
 "nbformat_minor": 0
}
